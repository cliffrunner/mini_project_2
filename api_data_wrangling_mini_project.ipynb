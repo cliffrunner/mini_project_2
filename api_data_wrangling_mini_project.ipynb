{
 "cells": [
  {
   "cell_type": "markdown",
   "metadata": {},
   "source": [
    "This exercise will require you to pull some data from the Qunadl API. Qaundl is currently the most widely used aggregator of financial market data."
   ]
  },
  {
   "cell_type": "markdown",
   "metadata": {},
   "source": [
    "As a first step, you will need to register a free account on the http://www.quandl.com website."
   ]
  },
  {
   "cell_type": "markdown",
   "metadata": {},
   "source": [
    "After you register, you will be provided with a unique API key, that you should store:"
   ]
  },
  {
   "cell_type": "code",
   "execution_count": 2,
   "metadata": {},
   "outputs": [],
   "source": [
    "# Store the API key as a string - according to PEP8, constants are always named in all upper case\n",
    "API_KEY = 'LiZ3wZypy8WMYBy7SjA9'"
   ]
  },
  {
   "cell_type": "markdown",
   "metadata": {},
   "source": [
    "Qaundl has a large number of data sources, but, unfortunately, most of them require a Premium subscription. Still, there are also a good number of free datasets."
   ]
  },
  {
   "cell_type": "markdown",
   "metadata": {},
   "source": [
    "For this mini project, we will focus on equities data from the Frankfurt Stock Exhange (FSE), which is available for free. We'll try and analyze the stock prices of a company called Carl Zeiss Meditec, which manufactures tools for eye examinations, as well as medical lasers for laser eye surgery: https://www.zeiss.com/meditec/int/home.html. The company is listed under the stock ticker AFX_X."
   ]
  },
  {
   "cell_type": "markdown",
   "metadata": {},
   "source": [
    "You can find the detailed Quandl API instructions here: https://docs.quandl.com/docs/time-series"
   ]
  },
  {
   "cell_type": "markdown",
   "metadata": {},
   "source": [
    "While there is a dedicated Python package for connecting to the Quandl API, we would prefer that you use the *requests* package, which can be easily downloaded using *pip* or *conda*. You can find the documentation for the package here: http://docs.python-requests.org/en/master/ "
   ]
  },
  {
   "cell_type": "markdown",
   "metadata": {},
   "source": [
    "Finally, apart from the *requests* package, you are encouraged to not use any third party Python packages, such as *pandas*, and instead focus on what's available in the Python Standard Library (the *collections* module might come in handy: https://pymotw.com/3/collections/).\n",
    "Also, since you won't have access to DataFrames, you are encouraged to us Python's native data structures - preferably dictionaries, though some questions can also be answered using lists.\n",
    "You can read more on these data structures here: https://docs.python.org/3/tutorial/datastructures.html"
   ]
  },
  {
   "cell_type": "markdown",
   "metadata": {},
   "source": [
    "Keep in mind that the JSON responses you will be getting from the API map almost one-to-one to Python's dictionaries. Unfortunately, they can be very nested, so make sure you read up on indexing dictionaries in the documentation provided above."
   ]
  },
  {
   "cell_type": "code",
   "execution_count": 8,
   "metadata": {},
   "outputs": [],
   "source": [
    "# First, import the relevant modules\n",
    "import requests\n",
    "import numpy as np\n"
   ]
  },
  {
   "cell_type": "code",
   "execution_count": 5,
   "metadata": {
    "scrolled": false
   },
   "outputs": [],
   "source": [
    "# Now, call the Quandl API and pull out a small sample of the data (only one day) to get a glimpse\n",
    "# into the JSON structure that will be returned\n",
    "data = requests.get(\"https://www.quandl.com/api/v3/datasets/FSE/AFX_X.json?start_date=2017-01-01&end_date=2017-12-31&api_key=\"+API_KEY)"
   ]
  },
  {
   "cell_type": "markdown",
   "metadata": {},
   "source": [
    "From column_names, we can see the data available from .json file"
   ]
  },
  {
   "cell_type": "code",
   "execution_count": 65,
   "metadata": {},
   "outputs": [
    {
     "name": "stdout",
     "output_type": "stream",
     "text": [
      "['Date', 'Open', 'High', 'Low', 'Close', 'Change', 'Traded Volume', 'Turnover', 'Last Price of the Day', 'Daily Traded Units', 'Daily Turnover']\n"
     ]
    }
   ],
   "source": [
    "# Inspect the JSON structure of the object you created, and take note of how nested it is,\n",
    "# as well as the overall structure\n",
    "print(data.json()['dataset']['column_names'])"
   ]
  },
  {
   "cell_type": "markdown",
   "metadata": {},
   "source": [
    "These are your tasks for this mini project:\n",
    "\n",
    "1. Collect data from the Franfurt Stock Exchange, for the ticker AFX_X, for the whole year 2017 (keep in mind that the date format is YYYY-MM-DD).\n",
    "2. Convert the returned JSON object into a Python dictionary.\n",
    "3. Calculate what the highest and lowest opening prices were for the stock in this period.\n",
    "4. What was the largest change in any one day (based on High and Low price)?\n",
    "5. What was the largest change between any two days (based on Closing Price)?\n",
    "6. What was the average daily trading volume during this year?\n",
    "7. (Optional) What was the median trading volume during this year. (Note: you may need to implement your own function for calculating the median.)"
   ]
  },
  {
   "cell_type": "code",
   "execution_count": 79,
   "metadata": {},
   "outputs": [
    {
     "name": "stdout",
     "output_type": "stream",
     "text": [
      "Q3. opening high is: 53.11\n",
      "Q3. opening low is 34.0\n",
      "Q4. maximum daily change is: 2.8100000000000023\n",
      "Q5. maximum change between 2 days is: 2.559999999999995\n",
      "Q6. maximum daily trade volume is: 670349.0\n",
      "Q7. median daily trade volume is: 76600.0\n"
     ]
    }
   ],
   "source": [
    "#Q1, see above\n",
    "#Q2, see above\n",
    "\n",
    "#Q3, 4, 5, 6, 7, calculate the highest and lowest opening price in 2017\n",
    "data_new = data.json()['dataset']['data']\n",
    "opening = []\n",
    "day_change = []\n",
    "tomorrow_close = data_new[0][4] # assign 2017-12-28 closing price to tomorrow_close\n",
    "ch_2_d = []\n",
    "volume = []\n",
    "\n",
    "for stock_price in data_new:\n",
    "    #========Q3========\n",
    "    # since there are some 'None' data, only the float data is appended\n",
    "    # stock_price[1] is the open price\n",
    "    if isinstance(stock_price[1], float): \n",
    "        opening.append(stock_price[1])\n",
    "    \n",
    "    #========Q4========\n",
    "    # since there are some 'None' data, only the float data is appended\n",
    "    # stock_price[2] is daily high, stock_price[3] is daily low\n",
    "    # note: daily change is stock_price[5], however it contains a lot of None value, therefore is not used here\n",
    "    if isinstance(stock_price[2], float) and isinstance(stock_price[3], float): \n",
    "        day_change.append(abs(stock_price[2]-stock_price[3]))\n",
    "    \n",
    "    #========Q5========\n",
    "    # since there are some 'None' data, only the float data is appended\n",
    "    # stock_price[4] is the closing price\n",
    "    # note that in data, date starts from 2017-12-28 to 2017-01-01\n",
    "    if isinstance(stock_price[4], float):\n",
    "        ch_2_d.append(abs(tomorrow_close-stock_price[4]))\n",
    "        tomorrow_close = stock_price[4]\n",
    "\n",
    "    #========Q6========\n",
    "    # since there are some 'None' data, only the float data is appended\n",
    "    # stock_price[6] is the cumulative trade volume\n",
    "    if isinstance(stock_price[6], float):\n",
    "        volume.append(stock_price[6])\n",
    "    \n",
    "# Q3    \n",
    "high = np.max(opening)\n",
    "low = np.min(opening)\n",
    "print('Q3. opening high is: '+str(high))\n",
    "print('Q3. opening low is '+str(low))\n",
    "\n",
    "# Q4 \n",
    "max_day_change = np.max(day_change)\n",
    "print('Q4. maximum daily change is: '+ str(max_day_change))\n",
    "\n",
    "# Q5\n",
    "max_ch_2_d = np.max(ch_2_d)\n",
    "print('Q5. maximum change between 2 days is: '+ str(max_ch_2_d))\n",
    "\n",
    "# Q6\n",
    "volume = sorted(volume)\n",
    "print('Q6. maximum daily trade volume is: '+ str(volume[-1]))\n",
    "\n",
    "# Q7\n",
    "if len(volume) % 2 == 0:\n",
    "    median_volume = (volume[len(volume)/2] + volume[len(volume)/2+1]) / 2\n",
    "else:\n",
    "    median_volume = volume[int((len(volume)-1)/2 + 1)]\n",
    "print('Q7. median daily trade volume is: ' + str(median_volume))"
   ]
  }
 ],
 "metadata": {
  "kernelspec": {
   "display_name": "Python 3",
   "language": "python",
   "name": "python3"
  },
  "language_info": {
   "codemirror_mode": {
    "name": "ipython",
    "version": 3
   },
   "file_extension": ".py",
   "mimetype": "text/x-python",
   "name": "python",
   "nbconvert_exporter": "python",
   "pygments_lexer": "ipython3",
   "version": "3.6.5"
  }
 },
 "nbformat": 4,
 "nbformat_minor": 2
}
